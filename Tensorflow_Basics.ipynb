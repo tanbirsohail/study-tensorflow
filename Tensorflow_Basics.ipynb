{
  "nbformat": 4,
  "nbformat_minor": 0,
  "metadata": {
    "colab": {
      "name": "Tensorflow Basics.ipynb",
      "version": "0.3.2",
      "provenance": [],
      "collapsed_sections": []
    },
    "kernelspec": {
      "name": "python3",
      "display_name": "Python 3"
    },
    "accelerator": "TPU"
  },
  "cells": [
    {
      "metadata": {
        "id": "vZNWucbEK0u3",
        "colab_type": "code",
        "colab": {
          "base_uri": "https://localhost:8080/",
          "height": 255
        },
        "outputId": "c61f5c16-e691-40be-8ae7-cc488c8ab7a6"
      },
      "cell_type": "code",
      "source": [
        "import tensorflow as tf\n",
        "mnist = tf.keras.datasets.mnist\n",
        "\n",
        "(x_train, y_train),(x_test, y_test) = mnist.load_data()\n",
        "x_train, x_test = x_train / 255.0, x_test / 255.0\n",
        "\n",
        "model = tf.keras.models.Sequential([\n",
        "  tf.keras.layers.Flatten(),\n",
        "  tf.keras.layers.Dense(512, activation=tf.nn.relu),\n",
        "  tf.keras.layers.Dropout(0.2),\n",
        "  tf.keras.layers.Dense(10, activation=tf.nn.softmax)\n",
        "])\n",
        "model.compile(optimizer='adam',\n",
        "              loss='sparse_categorical_crossentropy',\n",
        "              metrics=['accuracy'])\n",
        "\n",
        "model.fit(x_train, y_train, epochs=5)\n",
        "model.evaluate(x_test, y_test)"
      ],
      "execution_count": 1,
      "outputs": [
        {
          "output_type": "stream",
          "text": [
            "Downloading data from https://storage.googleapis.com/tensorflow/tf-keras-datasets/mnist.npz\n",
            "11493376/11490434 [==============================] - 0s 0us/step\n",
            "Epoch 1/5\n",
            "60000/60000 [==============================] - 13s 220us/step - loss: 0.1983 - acc: 0.9415\n",
            "Epoch 2/5\n",
            "60000/60000 [==============================] - 14s 240us/step - loss: 0.0808 - acc: 0.9750\n",
            "Epoch 3/5\n",
            "60000/60000 [==============================] - 13s 223us/step - loss: 0.0518 - acc: 0.9840\n",
            "Epoch 4/5\n",
            "60000/60000 [==============================] - 13s 216us/step - loss: 0.0374 - acc: 0.9879\n",
            "Epoch 5/5\n",
            "60000/60000 [==============================] - 13s 214us/step - loss: 0.0284 - acc: 0.9910\n",
            "10000/10000 [==============================] - 0s 50us/step\n"
          ],
          "name": "stdout"
        },
        {
          "output_type": "execute_result",
          "data": {
            "text/plain": [
              "[0.06492691162163391, 0.9813]"
            ]
          },
          "metadata": {
            "tags": []
          },
          "execution_count": 1
        }
      ]
    },
    {
      "metadata": {
        "id": "pbXIeDsUOI7n",
        "colab_type": "text"
      },
      "cell_type": "markdown",
      "source": [
        "So we just ran the starter code for tensorflow with keras on google colab environment with a TPU backend! What a great time to be alive! Now that we have seen what we can do, lets get started!"
      ]
    },
    {
      "metadata": {
        "id": "11KeoTekOjAN",
        "colab_type": "code",
        "colab": {}
      },
      "cell_type": "code",
      "source": [
        ""
      ],
      "execution_count": 0,
      "outputs": []
    }
  ]
}